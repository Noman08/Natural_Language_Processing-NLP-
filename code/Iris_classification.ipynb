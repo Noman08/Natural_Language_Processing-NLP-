{
 "cells": [
  {
   "cell_type": "code",
   "execution_count": 1,
   "id": "c6a70982",
   "metadata": {},
   "outputs": [],
   "source": [
    "import pandas as pd\n",
    "import numpy as np\n",
    "import scipy.special\n",
    "import os\n",
    "import matplotlib.pyplot as plt\n",
    "import seaborn as sns\n",
    "import warnings\n",
    "import math\n",
    "warnings.filterwarnings('ignore')\n"
   ]
  },
  {
   "cell_type": "code",
   "execution_count": 2,
   "id": "f2f08491",
   "metadata": {},
   "outputs": [
    {
     "data": {
      "text/plain": [
       "array([0, 0, 0, 0, 0, 0, 0, 0, 0, 0, 0, 0, 0, 0, 0, 0, 0, 0, 0, 0, 0, 0,\n",
       "       0, 0, 0, 0, 0, 0, 0, 0, 0, 0, 0, 0, 0, 0, 0, 0, 0, 0, 0, 0, 0, 0,\n",
       "       0, 0, 0, 0, 0, 0, 1, 1, 1, 1, 1, 1, 1, 1, 1, 1, 1, 1, 1, 1, 1, 1,\n",
       "       1, 1, 1, 1, 1, 1, 1, 1, 1, 1, 1, 1, 1, 1, 1, 1, 1, 1, 1, 1, 1, 1,\n",
       "       1, 1, 1, 1, 1, 1, 1, 1, 1, 1, 1, 1, 2, 2, 2, 2, 2, 2, 2, 2, 2, 2,\n",
       "       2, 2, 2, 2, 2, 2, 2, 2, 2, 2, 2, 2, 2, 2, 2, 2, 2, 2, 2, 2, 2, 2,\n",
       "       2, 2, 2, 2, 2, 2, 2, 2, 2, 2, 2, 2, 2, 2, 2, 2, 2, 2])"
      ]
     },
     "execution_count": 2,
     "metadata": {},
     "output_type": "execute_result"
    }
   ],
   "source": [
    "from sklearn.datasets import load_iris\n",
    "from sklearn.model_selection import train_test_split\n",
    "from sklearn.preprocessing import OneHotEncoder, StandardScaler\n",
    "\n",
    "iris = load_iris()\n",
    "X = iris['data']\n",
    "y = iris['target']\n",
    "names = iris['target_names']\n",
    "feature_names = iris['feature_names']\n",
    "y"
   ]
  },
  {
   "cell_type": "markdown",
   "id": "3984afb5",
   "metadata": {},
   "source": [
    "# Create Data Frame"
   ]
  },
  {
   "cell_type": "code",
   "execution_count": 3,
   "id": "756b0eae",
   "metadata": {},
   "outputs": [
    {
     "data": {
      "text/html": [
       "<div>\n",
       "<style scoped>\n",
       "    .dataframe tbody tr th:only-of-type {\n",
       "        vertical-align: middle;\n",
       "    }\n",
       "\n",
       "    .dataframe tbody tr th {\n",
       "        vertical-align: top;\n",
       "    }\n",
       "\n",
       "    .dataframe thead th {\n",
       "        text-align: right;\n",
       "    }\n",
       "</style>\n",
       "<table border=\"1\" class=\"dataframe\">\n",
       "  <thead>\n",
       "    <tr style=\"text-align: right;\">\n",
       "      <th></th>\n",
       "      <th>sepal length (cm)</th>\n",
       "      <th>sepal width (cm)</th>\n",
       "      <th>petal length (cm)</th>\n",
       "      <th>petal width (cm)</th>\n",
       "      <th>Class_labels</th>\n",
       "    </tr>\n",
       "  </thead>\n",
       "  <tbody>\n",
       "    <tr>\n",
       "      <th>0</th>\n",
       "      <td>5.1</td>\n",
       "      <td>3.5</td>\n",
       "      <td>1.4</td>\n",
       "      <td>0.2</td>\n",
       "      <td>setosa</td>\n",
       "    </tr>\n",
       "    <tr>\n",
       "      <th>1</th>\n",
       "      <td>4.9</td>\n",
       "      <td>3.0</td>\n",
       "      <td>1.4</td>\n",
       "      <td>0.2</td>\n",
       "      <td>setosa</td>\n",
       "    </tr>\n",
       "    <tr>\n",
       "      <th>2</th>\n",
       "      <td>4.7</td>\n",
       "      <td>3.2</td>\n",
       "      <td>1.3</td>\n",
       "      <td>0.2</td>\n",
       "      <td>setosa</td>\n",
       "    </tr>\n",
       "    <tr>\n",
       "      <th>3</th>\n",
       "      <td>4.6</td>\n",
       "      <td>3.1</td>\n",
       "      <td>1.5</td>\n",
       "      <td>0.2</td>\n",
       "      <td>setosa</td>\n",
       "    </tr>\n",
       "    <tr>\n",
       "      <th>4</th>\n",
       "      <td>5.0</td>\n",
       "      <td>3.6</td>\n",
       "      <td>1.4</td>\n",
       "      <td>0.2</td>\n",
       "      <td>setosa</td>\n",
       "    </tr>\n",
       "  </tbody>\n",
       "</table>\n",
       "</div>"
      ],
      "text/plain": [
       "   sepal length (cm)  sepal width (cm)  petal length (cm)  petal width (cm)  \\\n",
       "0                5.1               3.5                1.4               0.2   \n",
       "1                4.9               3.0                1.4               0.2   \n",
       "2                4.7               3.2                1.3               0.2   \n",
       "3                4.6               3.1                1.5               0.2   \n",
       "4                5.0               3.6                1.4               0.2   \n",
       "\n",
       "  Class_labels  \n",
       "0       setosa  \n",
       "1       setosa  \n",
       "2       setosa  \n",
       "3       setosa  \n",
       "4       setosa  "
      ]
     },
     "execution_count": 3,
     "metadata": {},
     "output_type": "execute_result"
    }
   ],
   "source": [
    "df = pd.DataFrame(X, columns= feature_names )\n",
    "df['Class_labels'] = y\n",
    "df['Class_labels'] = df['Class_labels'].replace([0,1,2],['setosa', 'versicolor', 'virginica'])\n",
    "df.head()"
   ]
  },
  {
   "cell_type": "code",
   "execution_count": 4,
   "id": "f91df7f1",
   "metadata": {},
   "outputs": [
    {
     "data": {
      "text/html": [
       "<div>\n",
       "<style scoped>\n",
       "    .dataframe tbody tr th:only-of-type {\n",
       "        vertical-align: middle;\n",
       "    }\n",
       "\n",
       "    .dataframe tbody tr th {\n",
       "        vertical-align: top;\n",
       "    }\n",
       "\n",
       "    .dataframe thead th {\n",
       "        text-align: right;\n",
       "    }\n",
       "</style>\n",
       "<table border=\"1\" class=\"dataframe\">\n",
       "  <thead>\n",
       "    <tr style=\"text-align: right;\">\n",
       "      <th></th>\n",
       "      <th>sepal length (cm)</th>\n",
       "      <th>sepal width (cm)</th>\n",
       "      <th>petal length (cm)</th>\n",
       "      <th>petal width (cm)</th>\n",
       "    </tr>\n",
       "  </thead>\n",
       "  <tbody>\n",
       "    <tr>\n",
       "      <th>count</th>\n",
       "      <td>150.000000</td>\n",
       "      <td>150.000000</td>\n",
       "      <td>150.000000</td>\n",
       "      <td>150.000000</td>\n",
       "    </tr>\n",
       "    <tr>\n",
       "      <th>mean</th>\n",
       "      <td>5.843333</td>\n",
       "      <td>3.057333</td>\n",
       "      <td>3.758000</td>\n",
       "      <td>1.199333</td>\n",
       "    </tr>\n",
       "    <tr>\n",
       "      <th>std</th>\n",
       "      <td>0.828066</td>\n",
       "      <td>0.435866</td>\n",
       "      <td>1.765298</td>\n",
       "      <td>0.762238</td>\n",
       "    </tr>\n",
       "    <tr>\n",
       "      <th>min</th>\n",
       "      <td>4.300000</td>\n",
       "      <td>2.000000</td>\n",
       "      <td>1.000000</td>\n",
       "      <td>0.100000</td>\n",
       "    </tr>\n",
       "    <tr>\n",
       "      <th>25%</th>\n",
       "      <td>5.100000</td>\n",
       "      <td>2.800000</td>\n",
       "      <td>1.600000</td>\n",
       "      <td>0.300000</td>\n",
       "    </tr>\n",
       "    <tr>\n",
       "      <th>50%</th>\n",
       "      <td>5.800000</td>\n",
       "      <td>3.000000</td>\n",
       "      <td>4.350000</td>\n",
       "      <td>1.300000</td>\n",
       "    </tr>\n",
       "    <tr>\n",
       "      <th>75%</th>\n",
       "      <td>6.400000</td>\n",
       "      <td>3.300000</td>\n",
       "      <td>5.100000</td>\n",
       "      <td>1.800000</td>\n",
       "    </tr>\n",
       "    <tr>\n",
       "      <th>max</th>\n",
       "      <td>7.900000</td>\n",
       "      <td>4.400000</td>\n",
       "      <td>6.900000</td>\n",
       "      <td>2.500000</td>\n",
       "    </tr>\n",
       "  </tbody>\n",
       "</table>\n",
       "</div>"
      ],
      "text/plain": [
       "       sepal length (cm)  sepal width (cm)  petal length (cm)  \\\n",
       "count         150.000000        150.000000         150.000000   \n",
       "mean            5.843333          3.057333           3.758000   \n",
       "std             0.828066          0.435866           1.765298   \n",
       "min             4.300000          2.000000           1.000000   \n",
       "25%             5.100000          2.800000           1.600000   \n",
       "50%             5.800000          3.000000           4.350000   \n",
       "75%             6.400000          3.300000           5.100000   \n",
       "max             7.900000          4.400000           6.900000   \n",
       "\n",
       "       petal width (cm)  \n",
       "count        150.000000  \n",
       "mean           1.199333  \n",
       "std            0.762238  \n",
       "min            0.100000  \n",
       "25%            0.300000  \n",
       "50%            1.300000  \n",
       "75%            1.800000  \n",
       "max            2.500000  "
      ]
     },
     "execution_count": 4,
     "metadata": {},
     "output_type": "execute_result"
    }
   ],
   "source": [
    "# Some basic statistical analysis about the data\n",
    "df.describe()"
   ]
  },
  {
   "cell_type": "code",
   "execution_count": 5,
   "id": "b3d52938",
   "metadata": {},
   "outputs": [
    {
     "name": "stdout",
     "output_type": "stream",
     "text": [
      "<class 'pandas.core.frame.DataFrame'>\n",
      "RangeIndex: 150 entries, 0 to 149\n",
      "Data columns (total 5 columns):\n",
      " #   Column             Non-Null Count  Dtype  \n",
      "---  ------             --------------  -----  \n",
      " 0   sepal length (cm)  150 non-null    float64\n",
      " 1   sepal width (cm)   150 non-null    float64\n",
      " 2   petal length (cm)  150 non-null    float64\n",
      " 3   petal width (cm)   150 non-null    float64\n",
      " 4   Class_labels       150 non-null    object \n",
      "dtypes: float64(4), object(1)\n",
      "memory usage: 6.0+ KB\n"
     ]
    }
   ],
   "source": [
    "# to basic info about datatype\n",
    "df.info()"
   ]
  },
  {
   "cell_type": "code",
   "execution_count": 6,
   "id": "5fe43a74",
   "metadata": {},
   "outputs": [
    {
     "data": {
      "text/plain": [
       "setosa        50\n",
       "versicolor    50\n",
       "virginica     50\n",
       "Name: Class_labels, dtype: int64"
      ]
     },
     "execution_count": 6,
     "metadata": {},
     "output_type": "execute_result"
    }
   ],
   "source": [
    "# to display no. of samples on each class\n",
    "df['Class_labels'].value_counts()"
   ]
  },
  {
   "cell_type": "code",
   "execution_count": 7,
   "id": "d4f9917c",
   "metadata": {},
   "outputs": [
    {
     "data": {
      "text/plain": [
       "sepal length (cm)    0\n",
       "sepal width (cm)     0\n",
       "petal length (cm)    0\n",
       "petal width (cm)     0\n",
       "Class_labels         0\n",
       "dtype: int64"
      ]
     },
     "execution_count": 7,
     "metadata": {},
     "output_type": "execute_result"
    }
   ],
   "source": [
    "# check for null values\n",
    "df.isnull().sum()"
   ]
  },
  {
   "cell_type": "markdown",
   "id": "33dad4fa",
   "metadata": {},
   "source": [
    "# Visualize the Data"
   ]
  },
  {
   "cell_type": "code",
   "execution_count": 8,
   "id": "adc6308f",
   "metadata": {},
   "outputs": [
    {
     "data": {
      "text/plain": [
       "<AxesSubplot:>"
      ]
     },
     "execution_count": 8,
     "metadata": {},
     "output_type": "execute_result"
    },
    {
     "data": {
      "image/png": "[encoded data removed]",
      "text/plain": [
       "<Figure size 432x288 with 1 Axes>"
      ]
     },
     "metadata": {
      "needs_background": "light"
     },
     "output_type": "display_data"
    }
   ],
   "source": [
    "# histograms\n",
    "df['petal width (cm)'].hist()"
   ]
  },
  {
   "cell_type": "code",
   "execution_count": 9,
   "id": "c7b9e0e9",
   "metadata": {},
   "outputs": [],
   "source": [
    "# scatterplot\n",
    "colors = ['red', 'orange', 'blue']\n",
    "species = ['virginica','versicolor','setosa']"
   ]
  },
  {
   "cell_type": "code",
   "execution_count": 10,
   "id": "40398734",
   "metadata": {},
   "outputs": [
    {
     "data": {
      "text/plain": [
       "<matplotlib.legend.Legend at 0x268c0397970>"
      ]
     },
     "execution_count": 10,
     "metadata": {},
     "output_type": "execute_result"
    },
    {
     "data": {
      "image/png": "[encoded data removed]",
      "text/plain": [
       "<Figure size 432x288 with 1 Axes>"
      ]
     },
     "metadata": {
      "needs_background": "light"
     },
     "output_type": "display_data"
    }
   ],
   "source": [
    "for i in range(3):\n",
    "    x = df[df['Class_labels'] == species[i]]\n",
    "    plt.scatter(x['sepal length (cm)'], x['sepal width (cm)'], c = colors[i], label=species[i])\n",
    "plt.xlabel(\"Sepal Length\")\n",
    "plt.ylabel(\"Sepal Width\")\n",
    "plt.legend()\n"
   ]
  },
  {
   "cell_type": "code",
   "execution_count": 11,
   "id": "17aafb51",
   "metadata": {},
   "outputs": [
    {
     "data": {
      "text/plain": [
       "<matplotlib.legend.Legend at 0x268c0414c40>"
      ]
     },
     "execution_count": 11,
     "metadata": {},
     "output_type": "execute_result"
    },
    {
     "data": {
      "image/png": "[encoded data removed]",
      "text/plain": [
       "<Figure size 432x288 with 1 Axes>"
      ]
     },
     "metadata": {
      "needs_background": "light"
     },
     "output_type": "display_data"
    }
   ],
   "source": [
    "for i in range(3):\n",
    "    x = df[df['Class_labels'] == species[i]]\n",
    "    plt.scatter(x['petal length (cm)'], x['petal width (cm)'], c = colors[i], label=species[i])\n",
    "plt.xlabel(\"petal Length\")\n",
    "plt.ylabel(\"petal Width\")\n",
    "plt.legend()\n"
   ]
  },
  {
   "cell_type": "code",
   "execution_count": 12,
   "id": "0c9a4c49",
   "metadata": {},
   "outputs": [
    {
     "data": {
      "text/plain": [
       "<matplotlib.legend.Legend at 0x268c042c280>"
      ]
     },
     "execution_count": 12,
     "metadata": {},
     "output_type": "execute_result"
    },
    {
     "data": {
      "image/png": "[encoded data removed]",
      "text/plain": [
       "<Figure size 432x288 with 1 Axes>"
      ]
     },
     "metadata": {
      "needs_background": "light"
     },
     "output_type": "display_data"
    }
   ],
   "source": [
    "for i in range(3):\n",
    "    x = df[df['Class_labels'] == species[i]]\n",
    "    plt.scatter(x['sepal length (cm)'], x['petal width (cm)'], c = colors[i], label=species[i])\n",
    "plt.xlabel(\"Sepal Length\")\n",
    "plt.ylabel(\"Petal Width\")\n",
    "plt.legend()\n"
   ]
  },
  {
   "cell_type": "code",
   "execution_count": 13,
   "id": "1e170c0e",
   "metadata": {},
   "outputs": [],
   "source": [
    "# One hot encoding\n",
    "enc = OneHotEncoder()\n",
    "Y = enc.fit_transform(y[:, np.newaxis]).toarray()\n"
   ]
  },
  {
   "cell_type": "code",
   "execution_count": 14,
   "id": "86c654d7",
   "metadata": {},
   "outputs": [],
   "source": [
    "# One hot encoding\n",
    "enc = OneHotEncoder()\n",
    "Y = enc.fit_transform(y[:, np.newaxis]).toarray()\n",
    "\n",
    "# Scale data to have mean 0 and variance 1 \n",
    "# which is importance for convergence of the neural network\n",
    "scaler = StandardScaler()\n",
    "X_scaled = scaler.fit_transform(X)\n",
    "\n",
    "# Split the data set into training and testing\n",
    "X_train, X_test, Y_train, Y_test = train_test_split(\n",
    "    X_scaled, Y, test_size=0.2, random_state=42)\n",
    "\n",
    "n_features = X.shape[1]\n",
    "n_classes = Y.shape[1]"
   ]
  },
  {
   "cell_type": "code",
   "execution_count": 15,
   "id": "14ff970f",
   "metadata": {},
   "outputs": [],
   "source": [
    "    def cross_entropy(self,y,y_pre):\n",
    "        y_pre = y_pre.T\n",
    "        loss=-np.sum(y*np.log(y_pre))\n",
    "        return loss/float(y_pre.shape[0])\n",
    "    "
   ]
  },
  {
   "cell_type": "markdown",
   "id": "5983b5c0",
   "metadata": {},
   "source": [
    "# Create Model"
   ]
  },
  {
   "cell_type": "code",
   "execution_count": 16,
   "id": "89508089",
   "metadata": {},
   "outputs": [],
   "source": [
    "# neural network class definition\n",
    "class neuralNetwork:\n",
    "    \n",
    "    \n",
    "    # initialise the neural network\n",
    "    def __init__(self, inputnodes, hiddennodes, outputnodes, learningrate):\n",
    "        # set number of nodes in each input, hidden, output layer\n",
    "        self.inodes = inputnodes\n",
    "        self.hnodes = hiddennodes\n",
    "        self.onodes = outputnodes\n",
    "        self.loss = 1\n",
    "        \n",
    "        \n",
    "        # link weight matrices, wih and who\n",
    "        # weights inside the arrays are w_i_j, where link is from node i to node j in the next layer\n",
    "        # w11 w21\n",
    "        # w12 w22 etc \n",
    "        self.wih = np.random.normal(0.0, pow(self.inodes, -0.5), (self.hnodes, self.inodes))\n",
    "        self.who = np.random.normal(0.0, pow(self.hnodes, -0.5), (self.onodes, self.hnodes))\n",
    "\n",
    "        # learning rate\n",
    "        self.lr = learningrate\n",
    "        \n",
    "        # activation function is the sigmoid function\n",
    "        self.activation_function = lambda x: scipy.special.expit(x)\n",
    "        \n",
    "        pass\n",
    "\n",
    "    def sigmoid(self, a):\n",
    "        o = 1/(1+np.exp(-1*a))\n",
    "        return o\n",
    "    \n",
    "    def softmax(self, x, derivative=False):\n",
    "        # Numerically stable with large exponentials\n",
    "        exps = np.exp(x - x.max())\n",
    "        if derivative:\n",
    "            return exps / np.sum(exps, axis=0) * (1 - exps / np.sum(exps, axis=0))\n",
    "        return exps / np.sum(exps, axis=0)\n",
    "    \n",
    "\n",
    "    def cross_entropy(self, x, y):\n",
    "        \"\"\" Computes cross entropy between two distributions.\n",
    "        Input: x: iterabale of N non-negative values\n",
    "               y: iterabale of N non-negative values\n",
    "        Returns: scalar\n",
    "        \"\"\"\n",
    "        y = y.T\n",
    "        if np.any(x < 0) or np.any(y < 0):\n",
    "            raise ValueError('Negative values exist.')\n",
    "\n",
    "        # Force to proper probability mass function.\n",
    "        x = np.array(x, dtype=np.float)\n",
    "        y = np.array(y, dtype=np.float)\n",
    "        x /= np.sum(x)\n",
    "        y /= np.sum(y)\n",
    "\n",
    "        # Ignore zero 'y' elements.\n",
    "        mask = y > 0\n",
    "        x = x[mask]\n",
    "        y = y[mask]    \n",
    "        ce = -np.sum(x * np.log(y)) \n",
    "        return ce\n",
    "\n",
    "    def compute_accuracy(self, targets, outputs):\n",
    "        predictions = []\n",
    "        pred = np.argmax(outputs.T)\n",
    "        predictions.append(np.argmax(outputs.T, axis=1) == np.argmax(targets, axis=1))\n",
    "        accuracy = np.mean(predictions)\n",
    "        return accuracy\n",
    "    \n",
    "    # train the neural network\n",
    "    def train(self, inputs_list, targets_list):\n",
    "        # convert inputs list to 2d array\n",
    "        inputs = np.array(inputs_list, ndmin=2).T\n",
    "        targets = np.array(targets_list, ndmin=2).T\n",
    "        \n",
    "        # calculate signals into hidden layer\n",
    "        hidden_inputs = np.dot(self.wih, inputs)\n",
    "        # calculate the signals emerging from hidden layer\n",
    "        #hidden_outputs = self.activation_function(hidden_inputs)\n",
    "        \n",
    "        hidden_outputs = self.sigmoid(hidden_inputs)\n",
    "\n",
    "        # calculate signals into final output layer\n",
    "        final_inputs = np.dot(self.who, hidden_outputs)\n",
    "        # calculate the signals emerging from final output layer\n",
    "        final_outputs = self.activation_function(final_inputs)\n",
    "        \n",
    "        #final_outputs = self.softmax(final_inputs)\n",
    "        \n",
    "        # output layer error is the (target - actual)\n",
    "        accuracy = self.compute_accuracy(Y_train, final_outputs)\n",
    "        \n",
    "        output_errors = targets - final_outputs\n",
    "        crossEntropy_der = final_outputs - targets\n",
    "\n",
    "\n",
    "        loss = self.cross_entropy(final_outputs, Y_train)\n",
    "        #output_errors = loss\n",
    "\n",
    "        \n",
    "        # hidden layer error is the output_errors, split by weights, recombined at hidden nodes\n",
    "        hidden_errors = np.dot(self.who.T, output_errors) \n",
    "        \n",
    "        # update the weights for the links between the hidden and output layers\n",
    "        #self.who += self.lr * np.dot((output_errors * final_outputs * (1.0 - final_outputs)), np.transpose(hidden_outputs))\n",
    "        #self.who += - self.lr * np.dot(crossEntropy_der * self.softmax(final_outputs, derivative = True), np.transpose(hidden_outputs))\n",
    "        self.who += - self.lr * np.dot(crossEntropy_der , np.transpose(hidden_outputs))\n",
    "        \n",
    "        # update the weights for the links between the input and hidden layers\n",
    "        self.wih += self.lr * np.dot((hidden_errors * hidden_outputs * (1.0 - hidden_outputs)), np.transpose(inputs))\n",
    "        \n",
    "        \n",
    "        return accuracy\n",
    "\n",
    "    \n",
    "    # query the neural network\n",
    "    def query(self, inputs_list):\n",
    "        # convert inputs list to 2d array\n",
    "        inputs = np.array(inputs_list, ndmin=2).T\n",
    "        \n",
    "        # calculate signals into hidden layer\n",
    "        hidden_inputs = np.dot(self.wih, inputs)\n",
    "        # calculate the signals emerging from hidden layer\n",
    "        hidden_outputs = self.activation_function(hidden_inputs)\n",
    "        #hidden_outputs = self.ReLU(hidden_inputs)\n",
    "        \n",
    "        # calculate signals into final output layer\n",
    "        final_inputs = np.dot(self.who, hidden_outputs)\n",
    "        # calculate the signals emerging from final output layer\n",
    "        final_outputs = self.softmax(final_inputs)\n",
    "        \n",
    "        return final_outputs"
   ]
  },
  {
   "cell_type": "code",
   "execution_count": 17,
   "id": "35540ad3",
   "metadata": {},
   "outputs": [],
   "source": [
    "# number of input, hidden and output nodes\n",
    "input_nodes = 4\n",
    "hidden_nodes = 8\n",
    "output_nodes = 3\n",
    "\n",
    "# learning rate\n",
    "learning_rate = 0.1\n",
    "\n",
    "# create instance of neural network\n",
    "n = neuralNetwork(input_nodes,hidden_nodes,output_nodes, learning_rate)"
   ]
  },
  {
   "cell_type": "code",
   "execution_count": 18,
   "id": "109d71e4",
   "metadata": {},
   "outputs": [
    {
     "name": "stdout",
     "output_type": "stream",
     "text": [
      "Epoch: 1, Accuracy: 28.333333333333332 %\n",
      "Epoch: 2, Accuracy: 63.33333333333333 %\n",
      "Epoch: 3, Accuracy: 65.83333333333333 %\n",
      "Epoch: 4, Accuracy: 65.83333333333333 %\n",
      "Epoch: 5, Accuracy: 65.0 %\n",
      "Epoch: 6, Accuracy: 77.5 %\n",
      "Epoch: 7, Accuracy: 69.16666666666667 %\n",
      "Epoch: 8, Accuracy: 73.33333333333333 %\n",
      "Epoch: 9, Accuracy: 81.66666666666667 %\n",
      "Epoch: 10, Accuracy: 80.0 %\n",
      "Epoch: 11, Accuracy: 85.0 %\n",
      "Epoch: 12, Accuracy: 80.83333333333333 %\n",
      "Epoch: 13, Accuracy: 87.5 %\n",
      "Epoch: 14, Accuracy: 83.33333333333334 %\n",
      "Epoch: 15, Accuracy: 89.16666666666667 %\n",
      "Epoch: 16, Accuracy: 84.16666666666667 %\n",
      "Epoch: 17, Accuracy: 88.33333333333333 %\n",
      "Epoch: 18, Accuracy: 83.33333333333334 %\n",
      "Epoch: 19, Accuracy: 87.5 %\n",
      "Epoch: 20, Accuracy: 85.0 %\n",
      "Epoch: 21, Accuracy: 91.66666666666666 %\n",
      "Epoch: 22, Accuracy: 85.0 %\n",
      "Epoch: 23, Accuracy: 90.83333333333333 %\n",
      "Epoch: 24, Accuracy: 85.83333333333333 %\n",
      "Epoch: 25, Accuracy: 93.33333333333333 %\n",
      "Epoch: 26, Accuracy: 85.83333333333333 %\n",
      "Epoch: 27, Accuracy: 91.66666666666666 %\n",
      "Epoch: 28, Accuracy: 87.5 %\n",
      "Epoch: 29, Accuracy: 93.33333333333333 %\n",
      "Epoch: 30, Accuracy: 87.5 %\n",
      "Epoch: 31, Accuracy: 94.16666666666667 %\n",
      "Epoch: 32, Accuracy: 87.5 %\n",
      "Epoch: 33, Accuracy: 94.16666666666667 %\n",
      "Epoch: 34, Accuracy: 87.5 %\n",
      "Epoch: 35, Accuracy: 94.16666666666667 %\n",
      "Epoch: 36, Accuracy: 87.5 %\n",
      "Epoch: 37, Accuracy: 94.16666666666667 %\n",
      "Epoch: 38, Accuracy: 87.5 %\n",
      "Epoch: 39, Accuracy: 94.16666666666667 %\n",
      "Epoch: 40, Accuracy: 88.33333333333333 %\n",
      "Epoch: 41, Accuracy: 95.0 %\n",
      "Epoch: 42, Accuracy: 88.33333333333333 %\n",
      "Epoch: 43, Accuracy: 95.0 %\n",
      "Epoch: 44, Accuracy: 88.33333333333333 %\n",
      "Epoch: 45, Accuracy: 95.83333333333334 %\n",
      "Epoch: 46, Accuracy: 88.33333333333333 %\n",
      "Epoch: 47, Accuracy: 95.83333333333334 %\n",
      "Epoch: 48, Accuracy: 88.33333333333333 %\n",
      "Epoch: 49, Accuracy: 95.83333333333334 %\n",
      "Epoch: 50, Accuracy: 88.33333333333333 %\n",
      "Epoch: 51, Accuracy: 95.83333333333334 %\n",
      "Epoch: 52, Accuracy: 88.33333333333333 %\n",
      "Epoch: 53, Accuracy: 95.83333333333334 %\n",
      "Epoch: 54, Accuracy: 88.33333333333333 %\n",
      "Epoch: 55, Accuracy: 96.66666666666667 %\n",
      "Epoch: 56, Accuracy: 88.33333333333333 %\n",
      "Epoch: 57, Accuracy: 96.66666666666667 %\n",
      "Epoch: 58, Accuracy: 88.33333333333333 %\n",
      "Epoch: 59, Accuracy: 96.66666666666667 %\n",
      "Epoch: 60, Accuracy: 89.16666666666667 %\n",
      "Epoch: 61, Accuracy: 96.66666666666667 %\n",
      "Epoch: 62, Accuracy: 89.16666666666667 %\n",
      "Epoch: 63, Accuracy: 95.83333333333334 %\n",
      "Epoch: 64, Accuracy: 89.16666666666667 %\n",
      "Epoch: 65, Accuracy: 95.83333333333334 %\n",
      "Epoch: 66, Accuracy: 90.0 %\n",
      "Epoch: 67, Accuracy: 95.83333333333334 %\n",
      "Epoch: 68, Accuracy: 90.0 %\n",
      "Epoch: 69, Accuracy: 95.83333333333334 %\n",
      "Epoch: 70, Accuracy: 90.83333333333333 %\n",
      "Epoch: 71, Accuracy: 95.83333333333334 %\n",
      "Epoch: 72, Accuracy: 90.83333333333333 %\n",
      "Epoch: 73, Accuracy: 95.0 %\n",
      "Epoch: 74, Accuracy: 90.83333333333333 %\n",
      "Epoch: 75, Accuracy: 95.0 %\n",
      "Epoch: 76, Accuracy: 90.83333333333333 %\n",
      "Epoch: 77, Accuracy: 95.0 %\n",
      "Epoch: 78, Accuracy: 90.83333333333333 %\n",
      "Epoch: 79, Accuracy: 95.0 %\n",
      "Epoch: 80, Accuracy: 91.66666666666666 %\n",
      "Epoch: 81, Accuracy: 95.0 %\n",
      "Epoch: 82, Accuracy: 91.66666666666666 %\n",
      "Epoch: 83, Accuracy: 95.0 %\n",
      "Epoch: 84, Accuracy: 91.66666666666666 %\n",
      "Epoch: 85, Accuracy: 95.0 %\n",
      "Epoch: 86, Accuracy: 92.5 %\n",
      "Epoch: 87, Accuracy: 95.0 %\n",
      "Epoch: 88, Accuracy: 92.5 %\n",
      "Epoch: 89, Accuracy: 95.0 %\n",
      "Epoch: 90, Accuracy: 92.5 %\n",
      "Epoch: 91, Accuracy: 95.0 %\n",
      "Epoch: 92, Accuracy: 92.5 %\n",
      "Epoch: 93, Accuracy: 95.0 %\n",
      "Epoch: 94, Accuracy: 92.5 %\n",
      "Epoch: 95, Accuracy: 95.0 %\n",
      "Epoch: 96, Accuracy: 93.33333333333333 %\n",
      "Epoch: 97, Accuracy: 95.83333333333334 %\n",
      "Epoch: 98, Accuracy: 93.33333333333333 %\n",
      "Epoch: 99, Accuracy: 95.83333333333334 %\n",
      "Epoch: 100, Accuracy: 93.33333333333333 %\n"
     ]
    }
   ],
   "source": [
    "# train the neural network\n",
    "\n",
    "# epochs is the number of times the training data set is used for training\n",
    "epochs = 100\n",
    "\n",
    "for e in range(epochs):\n",
    "    # go through all records in the training data set\n",
    "       \n",
    "    accuracy = n.train(X_train, Y_train)\n",
    "    accuracy = accuracy.T\n",
    "    print('Epoch: {}, Accuracy: {} %'.format(e+1, accuracy*100))\n",
    "    \n",
    "    \n",
    "    pass"
   ]
  },
  {
   "cell_type": "code",
   "execution_count": 19,
   "id": "d8b653af",
   "metadata": {},
   "outputs": [],
   "source": [
    "def compute_accuracy(targets, outputs):\n",
    "    predictions = []\n",
    "    pred = np.argmax(outputs.T)\n",
    "    predictions.append(np.argmax(outputs.T, axis=1) == np.argmax(targets, axis=1))\n",
    "    accuracy = np.mean(predictions)\n",
    "    return accuracy"
   ]
  },
  {
   "cell_type": "code",
   "execution_count": 20,
   "id": "f1968723",
   "metadata": {},
   "outputs": [
    {
     "name": "stdout",
     "output_type": "stream",
     "text": [
      "1.0\n"
     ]
    }
   ],
   "source": [
    "# query the network\n",
    "outputs = n.query(X_test)\n",
    "accuracy = compute_accuracy(Y_test, outputs)\n",
    "print(accuracy)"
   ]
  },
  {
   "cell_type": "code",
   "execution_count": 21,
   "id": "700b0caf",
   "metadata": {},
   "outputs": [
    {
     "name": "stdout",
     "output_type": "stream",
     "text": [
      "1.0\n"
     ]
    },
    {
     "data": {
      "text/plain": [
       "(3, 30)"
      ]
     },
     "execution_count": 21,
     "metadata": {},
     "output_type": "execute_result"
    }
   ],
   "source": [
    "# query the network\n",
    "outputs = n.query(X_test)\n",
    "predictions = []\n",
    "\n",
    "pred = np.argmax(outputs.T)\n",
    "predictions.append(np.argmax(outputs.T, axis=1) == np.argmax(Y_test, axis=1))\n",
    "\n",
    "accuracy = np.mean(predictions)\n",
    "outputs = np.where(outputs > .5 , 1.0, 0.0)  \n",
    "print(accuracy)\n",
    "outputs.shape\n"
   ]
  },
  {
   "cell_type": "code",
   "execution_count": 22,
   "id": "3be30079",
   "metadata": {},
   "outputs": [
    {
     "name": "stdout",
     "output_type": "stream",
     "text": [
      "[[0. 1. 0.]\n",
      " [1. 0. 0.]\n",
      " [0. 0. 1.]\n",
      " [0. 1. 0.]\n",
      " [0. 1. 0.]\n",
      " [1. 0. 0.]\n",
      " [0. 1. 0.]\n",
      " [0. 0. 1.]\n",
      " [0. 1. 0.]\n",
      " [0. 1. 0.]\n",
      " [0. 0. 1.]\n",
      " [1. 0. 0.]\n",
      " [1. 0. 0.]\n",
      " [1. 0. 0.]\n",
      " [1. 0. 0.]\n",
      " [0. 1. 0.]\n",
      " [0. 0. 1.]\n",
      " [0. 1. 0.]\n",
      " [0. 1. 0.]\n",
      " [0. 0. 1.]\n",
      " [1. 0. 0.]\n",
      " [0. 0. 1.]\n",
      " [1. 0. 0.]\n",
      " [0. 0. 1.]\n",
      " [0. 0. 1.]\n",
      " [0. 0. 1.]\n",
      " [0. 0. 1.]\n",
      " [0. 0. 1.]\n",
      " [1. 0. 0.]\n",
      " [1. 0. 0.]]    [[0. 1. 0.]\n",
      " [1. 0. 0.]\n",
      " [0. 0. 1.]\n",
      " [0. 1. 0.]\n",
      " [0. 1. 0.]\n",
      " [1. 0. 0.]\n",
      " [0. 1. 0.]\n",
      " [0. 0. 1.]\n",
      " [0. 1. 0.]\n",
      " [0. 1. 0.]\n",
      " [0. 0. 1.]\n",
      " [1. 0. 0.]\n",
      " [1. 0. 0.]\n",
      " [1. 0. 0.]\n",
      " [1. 0. 0.]\n",
      " [0. 1. 0.]\n",
      " [0. 0. 1.]\n",
      " [0. 1. 0.]\n",
      " [0. 1. 0.]\n",
      " [0. 0. 1.]\n",
      " [1. 0. 0.]\n",
      " [0. 0. 1.]\n",
      " [1. 0. 0.]\n",
      " [0. 0. 1.]\n",
      " [0. 0. 1.]\n",
      " [0. 0. 1.]\n",
      " [0. 0. 1.]\n",
      " [0. 0. 1.]\n",
      " [1. 0. 0.]\n",
      " [1. 0. 0.]]\n"
     ]
    }
   ],
   "source": [
    "print(outputs.T,'  ',Y_test)\n"
   ]
  },
  {
   "cell_type": "code",
   "execution_count": 23,
   "id": "dca3c6de",
   "metadata": {},
   "outputs": [
    {
     "data": {
      "text/plain": [
       "1.0"
      ]
     },
     "execution_count": 23,
     "metadata": {},
     "output_type": "execute_result"
    }
   ],
   "source": [
    "accuracy"
   ]
  },
  {
   "cell_type": "code",
   "execution_count": 24,
   "id": "5e819fa8",
   "metadata": {},
   "outputs": [
    {
     "name": "stdout",
     "output_type": "stream",
     "text": [
      "[[0. 1. 0.]\n",
      " [1. 0. 0.]\n",
      " [0. 0. 1.]\n",
      " [0. 1. 0.]\n",
      " [0. 1. 0.]\n",
      " [1. 0. 0.]\n",
      " [0. 1. 0.]\n",
      " [0. 0. 1.]\n",
      " [0. 1. 0.]\n",
      " [0. 1. 0.]\n",
      " [0. 0. 1.]\n",
      " [1. 0. 0.]\n",
      " [1. 0. 0.]\n",
      " [1. 0. 0.]\n",
      " [1. 0. 0.]\n",
      " [0. 1. 0.]\n",
      " [0. 0. 1.]\n",
      " [0. 1. 0.]\n",
      " [0. 1. 0.]\n",
      " [0. 0. 1.]\n",
      " [1. 0. 0.]\n",
      " [0. 0. 1.]\n",
      " [1. 0. 0.]\n",
      " [0. 0. 1.]\n",
      " [0. 0. 1.]\n",
      " [0. 0. 1.]\n",
      " [0. 0. 1.]\n",
      " [0. 0. 1.]\n",
      " [1. 0. 0.]\n",
      " [1. 0. 0.]]    \n"
     ]
    }
   ],
   "source": [
    "print(Y_test ,'   ')"
   ]
  },
  {
   "cell_type": "code",
   "execution_count": null,
   "id": "4cddce8f",
   "metadata": {},
   "outputs": [],
   "source": []
  }
 ],
 "metadata": {
  "kernelspec": {
   "display_name": "Python 3 (ipykernel)",
   "language": "python",
   "name": "python3"
  },
  "language_info": {
   "codemirror_mode": {
    "name": "ipython",
    "version": 3
   },
   "file_extension": ".py",
   "mimetype": "text/x-python",
   "name": "python",
   "nbconvert_exporter": "python",
   "pygments_lexer": "ipython3",
   "version": "3.9.7"
  }
 },
 "nbformat": 4,
 "nbformat_minor": 5
}
