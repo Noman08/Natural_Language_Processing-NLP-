{
 "cells": [
  {
   "cell_type": "code",
   "execution_count": 1,
   "id": "c35bbf17",
   "metadata": {},
   "outputs": [
    {
     "name": "stderr",
     "output_type": "stream",
     "text": [
      "[nltk_data] Downloading package wordnet to\n",
      "[nltk_data]     C:\\Users\\nn\\AppData\\Roaming\\nltk_data...\n",
      "[nltk_data]   Unzipping corpora\\wordnet.zip.\n"
     ]
    },
    {
     "name": "stdout",
     "output_type": "stream",
     "text": [
      "(n) bank Def: sloping land (especially the slope beside a body of water) \n",
      "(n) depository_financial_institution, bank, banking_concern, banking_company Def: a financial institution that accepts deposits and channels the money into lending activities \n",
      "(n) bank Def: a long ridge or pile \n",
      "(n) bank Def: an arrangement of similar objects in a row or in tiers \n",
      "(n) bank Def: a supply or stock held in reserve for future use (especially in emergencies) \n",
      "(n) bank Def: the funds held by a gambling house or the dealer in some gambling games \n",
      "(n) bank, cant, camber Def: a slope in the turn of a road or track; the outside is higher than the inside in order to reduce the effects of centrifugal force \n",
      "(n) savings_bank, coin_bank, money_box, bank Def: a container (usually with a slot in the top) for keeping money at home \n",
      "(n) bank, bank_building Def: a building in which the business of banking transacted \n",
      "(n) bank Def: a flight maneuver; aircraft tips laterally about its longitudinal axis (especially in turning) \n",
      "(v) bank Def: tip laterally \n",
      "(v) bank Def: enclose with a bank \n",
      "(v) bank Def: do business with a bank or keep an account at a bank \n",
      "(v) bank Def: act as the banker in a game or in gambling \n",
      "(v) bank Def: be in the banking business \n",
      "(v) deposit, bank Def: put into a bank account \n",
      "(v) bank Def: cover with ashes so to control the rate of burning \n",
      "(v) trust, swear, rely, bank Def: have confidence or faith in \n"
     ]
    }
   ],
   "source": [
    "import nltk\n",
    "nltk.download('wordnet')\n",
    "from nltk.corpus import wordnet as wn\n",
    "\n",
    "for synset in wn.synsets(\"bank\"):\n",
    "    print (\"(%s)\" % synset.pos(), \", \".join([l.name() for l\n",
    "    in synset.lemmas()]), \"Def: %s \" % synset.definition())\n"
   ]
  },
  {
   "cell_type": "code",
   "execution_count": 2,
   "id": "2352889e",
   "metadata": {},
   "outputs": [
    {
     "name": "stdout",
     "output_type": "stream",
     "text": [
      "Found 9 unique tokens.\n"
     ]
    }
   ],
   "source": [
    "from keras.preprocessing.text import Tokenizer\n",
    "samples = ['The cat sat on the mat.', 'The dog ate my homework.']\n",
    "tokenizer = Tokenizer(num_words=1000)\n",
    "tokenizer.fit_on_texts(samples)\n",
    "sequences = tokenizer.texts_to_sequences(samples)\n",
    "one_hot_results = tokenizer.texts_to_matrix(samples, mode='binary')\n",
    "word_index = tokenizer.word_index\n",
    "print('Found %s unique tokens.' % len(word_index))"
   ]
  },
  {
   "cell_type": "code",
   "execution_count": 5,
   "id": "1bfd1e52",
   "metadata": {},
   "outputs": [
    {
     "data": {
      "text/plain": [
       "(2, 1000)"
      ]
     },
     "execution_count": 5,
     "metadata": {},
     "output_type": "execute_result"
    }
   ],
   "source": [
    "one_hot_results.shape"
   ]
  },
  {
   "cell_type": "code",
   "execution_count": null,
   "id": "dc4663fb",
   "metadata": {},
   "outputs": [],
   "source": []
  }
 ],
 "metadata": {
  "kernelspec": {
   "display_name": "Python 3 (ipykernel)",
   "language": "python",
   "name": "python3"
  },
  "language_info": {
   "codemirror_mode": {
    "name": "ipython",
    "version": 3
   },
   "file_extension": ".py",
   "mimetype": "text/x-python",
   "name": "python",
   "nbconvert_exporter": "python",
   "pygments_lexer": "ipython3",
   "version": "3.9.7"
  }
 },
 "nbformat": 4,
 "nbformat_minor": 5
}
